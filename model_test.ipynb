{
 "cells": [
  {
   "cell_type": "code",
   "execution_count": 23,
   "metadata": {},
   "outputs": [],
   "source": [
    "import torch\n",
    "import cv2\n",
    "import numpy as np\n",
    "from PIL import Image\n",
    "import matplotlib.pyplot as plt\n",
    "import torch.nn.functional as F\n",
    "import torchvision.models as models\n",
    "from torch import nn, optim"
   ]
  },
  {
   "cell_type": "markdown",
   "metadata": {},
   "source": [
    "# VGG16 model (Base model)"
   ]
  },
  {
   "cell_type": "code",
   "execution_count": 3,
   "metadata": {},
   "outputs": [],
   "source": [
    "class BaseModel(nn.Module):\n",
    "    def __init__(self):\n",
    "        super().__init__()\n",
    "        self.build_network()\n",
    "\n",
    "    def build_network(self):\n",
    "        self.vgg16_model = models.vgg16(pretrained=True).features\n",
    "        self.vgg16_model.eval()\n",
    "\n",
    "        self.network = nn.Sequential(\n",
    "            nn.AdaptiveAvgPool2d([1,1]),\n",
    "            nn.Flatten(1),\n",
    "            nn.Linear(512,2)\n",
    "        )\n",
    "    \n",
    "    def forward(self, x):\n",
    "        x = self.vgg16_model(x)\n",
    "        y = self.network(x)\n",
    "        return y"
   ]
  },
  {
   "cell_type": "code",
   "execution_count": 4,
   "metadata": {},
   "outputs": [
    {
     "name": "stderr",
     "output_type": "stream",
     "text": [
      "/root/miniconda3/envs/cdt/lib/python3.8/site-packages/torchvision/models/_utils.py:208: UserWarning: The parameter 'pretrained' is deprecated since 0.13 and may be removed in the future, please use 'weights' instead.\n",
      "  warnings.warn(\n",
      "/root/miniconda3/envs/cdt/lib/python3.8/site-packages/torchvision/models/_utils.py:223: UserWarning: Arguments other than a weight enum or `None` for 'weights' are deprecated since 0.13 and may be removed in the future. The current behavior is equivalent to passing `weights=VGG16_Weights.IMAGENET1K_V1`. You can also use `weights=VGG16_Weights.DEFAULT` to get the most up-to-date weights.\n",
      "  warnings.warn(msg)\n"
     ]
    }
   ],
   "source": [
    "model = BaseModel()"
   ]
  },
  {
   "cell_type": "code",
   "execution_count": 5,
   "metadata": {},
   "outputs": [],
   "source": [
    "x = torch.rand([64,3,256,256])"
   ]
  },
  {
   "cell_type": "code",
   "execution_count": 6,
   "metadata": {},
   "outputs": [
    {
     "data": {
      "text/plain": [
       "torch.Size([64, 2])"
      ]
     },
     "execution_count": 6,
     "metadata": {},
     "output_type": "execute_result"
    }
   ],
   "source": [
    "model(x).shape"
   ]
  },
  {
   "cell_type": "markdown",
   "metadata": {},
   "source": [
    "# VGG16 with Grad-CAM"
   ]
  },
  {
   "cell_type": "code",
   "execution_count": 10,
   "metadata": {},
   "outputs": [],
   "source": [
    "class VGG16GradCAM(nn.Module):\n",
    "    def __init__(self):\n",
    "        super().__init__()\n",
    "        self.build_network()\n",
    "        \n",
    "    def build_network(self):\n",
    "        # VGG16 모델 불러오기 (사전 훈련된)\n",
    "        self.vgg16_model = models.vgg16(pretrained=True).features\n",
    "        self.vgg16_model.eval()\n",
    "        \n",
    "        self.network = nn.Sequential(\n",
    "            nn.AdaptiveAvgPool2d([1,1]),\n",
    "            nn.Flatten(1),\n",
    "            nn.Linear(512,2)\n",
    "        )\n",
    "        self.gradients = None\n",
    "    \n",
    "\n",
    "    # 훅(hook) 등록을 위한 함수\n",
    "    def activations_hook(self, grad):\n",
    "        self.gradients = grad\n",
    "\n",
    "    def forward(self, x):\n",
    "        x = self.vgg16_model(x)\n",
    "\n",
    "        # 특성 맵에 대한 그래디언트를 저장하기 위한 훅 등록\n",
    "        h = x.register_hook(self.activations_hook)\n",
    "\n",
    "        y = self.network(x)\n",
    "        return y\n",
    "\n",
    "    # Grad-CAM 처리 함수\n",
    "    def generate_cam(self, input_image, class_idx):\n",
    "        # 모델의 예측값과 그래디언트를 얻기 위한 forward pass\n",
    "        model_output = self.forward(input_image)\n",
    "        model_output[:, class_idx].backward()\n",
    "\n",
    "        gradients = self.gradients.data\n",
    "        pooled_gradients = torch.mean(gradients, dim=[0, 2, 3])\n",
    "        activations = self.vgg16_model(input_image).data\n",
    "\n",
    "        activations *= pooled_gradients[None, :, None, None]\n",
    "\n",
    "        heatmap = torch.mean(activations, dim=1)\n",
    "        heatmap = torch.clamp(heatmap, min=0)\n",
    "        heatmap /= torch.max(heatmap)\n",
    "\n",
    "        # # 모델의 예측값과 그래디언트를 얻기 위한 forward pass\n",
    "        # model_output = self.forward(input_image)\n",
    "        # model_output[:, class_idx].backward()\n",
    "\n",
    "        # # 그래디언트와 특성 맵을 가져옴\n",
    "        # gradients = self.gradients.data[0]\n",
    "        # pooled_gradients = torch.mean(gradients, dim=[0, 2, 3])\n",
    "        # activations = self.features_conv(input_image).data[0]\n",
    "\n",
    "        # # 각 특성 맵을 그래디언트로 가중치를 둠\n",
    "        # for i in range(activations.shape[0]):\n",
    "        #     activations[i, :, :] *= pooled_gradients[i]\n",
    "\n",
    "        # # 평균을 취해 최종 히트맵 생성\n",
    "        # heatmap = torch.mean(activations, dim=0)\n",
    "        # heatmap = torch.clamp(heatmap, min=0)\n",
    "        # heatmap /= torch.max(heatmap)\n",
    "        return heatmap\n"
   ]
  },
  {
   "cell_type": "code",
   "execution_count": 11,
   "metadata": {},
   "outputs": [
    {
     "name": "stderr",
     "output_type": "stream",
     "text": [
      "/root/miniconda3/envs/cdt/lib/python3.8/site-packages/torchvision/models/_utils.py:208: UserWarning: The parameter 'pretrained' is deprecated since 0.13 and may be removed in the future, please use 'weights' instead.\n",
      "  warnings.warn(\n",
      "/root/miniconda3/envs/cdt/lib/python3.8/site-packages/torchvision/models/_utils.py:223: UserWarning: Arguments other than a weight enum or `None` for 'weights' are deprecated since 0.13 and may be removed in the future. The current behavior is equivalent to passing `weights=VGG16_Weights.IMAGENET1K_V1`. You can also use `weights=VGG16_Weights.DEFAULT` to get the most up-to-date weights.\n",
      "  warnings.warn(msg)\n"
     ]
    },
    {
     "data": {
      "text/plain": [
       "torch.Size([1, 8, 8])"
      ]
     },
     "execution_count": 11,
     "metadata": {},
     "output_type": "execute_result"
    }
   ],
   "source": [
    "# 메인 실행 함수\n",
    "image = torch.rand([1,3,256,256])  # 이미지 경로\n",
    "class_idx = 0  # 클래스 인덱스 (예를 들어, ImageNet의 클래스 인덱스)\n",
    "\n",
    "# 모델 및 Grad-CAM 인스턴스 생성\n",
    "grad_cam = VGG16GradCAM()\n",
    "\n",
    "# Grad-CAM 실행\n",
    "heatmap = grad_cam.generate_cam(image, class_idx)\n",
    "heatmap.shape"
   ]
  },
  {
   "cell_type": "code",
   "execution_count": 12,
   "metadata": {},
   "outputs": [
    {
     "data": {
      "text/plain": [
       "torch.Size([1, 2])"
      ]
     },
     "execution_count": 12,
     "metadata": {},
     "output_type": "execute_result"
    }
   ],
   "source": [
    "y_pred = grad_cam(image)\n",
    "y_pred.shape"
   ]
  },
  {
   "cell_type": "code",
   "execution_count": 13,
   "metadata": {},
   "outputs": [
    {
     "data": {
      "text/plain": [
       "torch.Size([1, 8, 8])"
      ]
     },
     "execution_count": 13,
     "metadata": {},
     "output_type": "execute_result"
    }
   ],
   "source": [
    "heatmap = np.maximum(heatmap, 0)\n",
    "heatmap = heatmap / heatmap.max()\n",
    "heatmap.shape"
   ]
  },
  {
   "cell_type": "code",
   "execution_count": 14,
   "metadata": {},
   "outputs": [
    {
     "data": {
      "text/plain": [
       "(256, 256, 3)"
      ]
     },
     "execution_count": 14,
     "metadata": {},
     "output_type": "execute_result"
    }
   ],
   "source": [
    "img = np.array(image)[0].transpose(1,2,0)\n",
    "heatmap = np.uint8(255 * heatmap)\n",
    "heatmap = np.uint8(Image.fromarray(heatmap[0]).resize((img.shape[0], img.shape[1])))\n",
    "heatmap = cv2.applyColorMap(heatmap, cv2.COLORMAP_JET)\n",
    "heatmap.shape"
   ]
  },
  {
   "cell_type": "code",
   "execution_count": 15,
   "metadata": {},
   "outputs": [
    {
     "data": {
      "image/png": "[encoded data removed]",
      "text/plain": [
       "<Figure size 640x480 with 1 Axes>"
      ]
     },
     "metadata": {},
     "output_type": "display_data"
    }
   ],
   "source": [
    "alpha = 1\n",
    "superimposed_img = heatmap * alpha + img\n",
    "superimposed_img = np.clip(superimposed_img, 0, 255).astype(np.uint8)\n",
    "\n",
    "plt.imshow(superimposed_img)\n",
    "plt.axis('off')\n",
    "plt.show()"
   ]
  },
  {
   "cell_type": "markdown",
   "metadata": {},
   "source": [
    "# Conv-Att model"
   ]
  },
  {
   "cell_type": "code",
   "execution_count": 36,
   "metadata": {},
   "outputs": [
    {
     "name": "stdout",
     "output_type": "stream",
     "text": [
      "\u001b[0;31mInit signature:\u001b[0m\n",
      "\u001b[0mnn\u001b[0m\u001b[0;34m.\u001b[0m\u001b[0mTransformerEncoderLayer\u001b[0m\u001b[0;34m(\u001b[0m\u001b[0;34m\u001b[0m\n",
      "\u001b[0;34m\u001b[0m    \u001b[0md_model\u001b[0m\u001b[0;34m:\u001b[0m \u001b[0mint\u001b[0m\u001b[0;34m,\u001b[0m\u001b[0;34m\u001b[0m\n",
      "\u001b[0;34m\u001b[0m    \u001b[0mnhead\u001b[0m\u001b[0;34m:\u001b[0m \u001b[0mint\u001b[0m\u001b[0;34m,\u001b[0m\u001b[0;34m\u001b[0m\n",
      "\u001b[0;34m\u001b[0m    \u001b[0mdim_feedforward\u001b[0m\u001b[0;34m:\u001b[0m \u001b[0mint\u001b[0m \u001b[0;34m=\u001b[0m \u001b[0;36m2048\u001b[0m\u001b[0;34m,\u001b[0m\u001b[0;34m\u001b[0m\n",
      "\u001b[0;34m\u001b[0m    \u001b[0mdropout\u001b[0m\u001b[0;34m:\u001b[0m \u001b[0mfloat\u001b[0m \u001b[0;34m=\u001b[0m \u001b[0;36m0.1\u001b[0m\u001b[0;34m,\u001b[0m\u001b[0;34m\u001b[0m\n",
      "\u001b[0;34m\u001b[0m    \u001b[0mactivation\u001b[0m\u001b[0;34m:\u001b[0m \u001b[0mUnion\u001b[0m\u001b[0;34m[\u001b[0m\u001b[0mstr\u001b[0m\u001b[0;34m,\u001b[0m \u001b[0mCallable\u001b[0m\u001b[0;34m[\u001b[0m\u001b[0;34m[\u001b[0m\u001b[0mtorch\u001b[0m\u001b[0;34m.\u001b[0m\u001b[0mTensor\u001b[0m\u001b[0;34m]\u001b[0m\u001b[0;34m,\u001b[0m \u001b[0mtorch\u001b[0m\u001b[0;34m.\u001b[0m\u001b[0mTensor\u001b[0m\u001b[0;34m]\u001b[0m\u001b[0;34m]\u001b[0m \u001b[0;34m=\u001b[0m \u001b[0;34m<\u001b[0m\u001b[0mfunction\u001b[0m \u001b[0mrelu\u001b[0m \u001b[0mat\u001b[0m \u001b[0;36m0x7f378ace8160\u001b[0m\u001b[0;34m>\u001b[0m\u001b[0;34m,\u001b[0m\u001b[0;34m\u001b[0m\n",
      "\u001b[0;34m\u001b[0m    \u001b[0mlayer_norm_eps\u001b[0m\u001b[0;34m:\u001b[0m \u001b[0mfloat\u001b[0m \u001b[0;34m=\u001b[0m \u001b[0;36m1e-05\u001b[0m\u001b[0;34m,\u001b[0m\u001b[0;34m\u001b[0m\n",
      "\u001b[0;34m\u001b[0m    \u001b[0mbatch_first\u001b[0m\u001b[0;34m:\u001b[0m \u001b[0mbool\u001b[0m \u001b[0;34m=\u001b[0m \u001b[0;32mFalse\u001b[0m\u001b[0;34m,\u001b[0m\u001b[0;34m\u001b[0m\n",
      "\u001b[0;34m\u001b[0m    \u001b[0mnorm_first\u001b[0m\u001b[0;34m:\u001b[0m \u001b[0mbool\u001b[0m \u001b[0;34m=\u001b[0m \u001b[0;32mFalse\u001b[0m\u001b[0;34m,\u001b[0m\u001b[0;34m\u001b[0m\n",
      "\u001b[0;34m\u001b[0m    \u001b[0mbias\u001b[0m\u001b[0;34m:\u001b[0m \u001b[0mbool\u001b[0m \u001b[0;34m=\u001b[0m \u001b[0;32mTrue\u001b[0m\u001b[0;34m,\u001b[0m\u001b[0;34m\u001b[0m\n",
      "\u001b[0;34m\u001b[0m    \u001b[0mdevice\u001b[0m\u001b[0;34m=\u001b[0m\u001b[0;32mNone\u001b[0m\u001b[0;34m,\u001b[0m\u001b[0;34m\u001b[0m\n",
      "\u001b[0;34m\u001b[0m    \u001b[0mdtype\u001b[0m\u001b[0;34m=\u001b[0m\u001b[0;32mNone\u001b[0m\u001b[0;34m,\u001b[0m\u001b[0;34m\u001b[0m\n",
      "\u001b[0;34m\u001b[0m\u001b[0;34m)\u001b[0m \u001b[0;34m->\u001b[0m \u001b[0;32mNone\u001b[0m\u001b[0;34m\u001b[0m\u001b[0;34m\u001b[0m\u001b[0m\n",
      "\u001b[0;31mDocstring:\u001b[0m     \n",
      "TransformerEncoderLayer is made up of self-attn and feedforward network.\n",
      "This standard encoder layer is based on the paper \"Attention Is All You Need\".\n",
      "Ashish Vaswani, Noam Shazeer, Niki Parmar, Jakob Uszkoreit, Llion Jones, Aidan N Gomez,\n",
      "Lukasz Kaiser, and Illia Polosukhin. 2017. Attention is all you need. In Advances in\n",
      "Neural Information Processing Systems, pages 6000-6010. Users may modify or implement\n",
      "in a different way during application.\n",
      "\n",
      "TransformerEncoderLayer can handle either traditional torch.tensor inputs,\n",
      "or Nested Tensor inputs.  Derived classes are expected to similarly accept\n",
      "both input formats.  (Not all combinations of inputs are currently\n",
      "supported by TransformerEncoderLayer while Nested Tensor is in prototype\n",
      "state.)\n",
      "\n",
      "If you are implementing a custom layer, you may derive it either from\n",
      "the Module or TransformerEncoderLayer class.  If your custom layer\n",
      "supports both torch.Tensors and Nested Tensors inputs, make its\n",
      "implementation a derived class of TransformerEncoderLayer. If your custom\n",
      "Layer supports only torch.Tensor inputs, derive its implementation from\n",
      "Module.\n",
      "\n",
      "Args:\n",
      "    d_model: the number of expected features in the input (required).\n",
      "    nhead: the number of heads in the multiheadattention models (required).\n",
      "    dim_feedforward: the dimension of the feedforward network model (default=2048).\n",
      "    dropout: the dropout value (default=0.1).\n",
      "    activation: the activation function of the intermediate layer, can be a string\n",
      "        (\"relu\" or \"gelu\") or a unary callable. Default: relu\n",
      "    layer_norm_eps: the eps value in layer normalization components (default=1e-5).\n",
      "    batch_first: If ``True``, then the input and output tensors are provided\n",
      "        as (batch, seq, feature). Default: ``False`` (seq, batch, feature).\n",
      "    norm_first: if ``True``, layer norm is done prior to attention and feedforward\n",
      "        operations, respectively. Otherwise it's done after. Default: ``False`` (after).\n",
      "    bias: If set to ``False``, ``Linear`` and ``LayerNorm`` layers will not learn an additive\n",
      "        bias. Default: ``True``.\n",
      "\n",
      "Examples::\n",
      "    >>> encoder_layer = nn.TransformerEncoderLayer(d_model=512, nhead=8)\n",
      "    >>> src = torch.rand(10, 32, 512)\n",
      "    >>> out = encoder_layer(src)\n",
      "\n",
      "Alternatively, when ``batch_first`` is ``True``:\n",
      "    >>> encoder_layer = nn.TransformerEncoderLayer(d_model=512, nhead=8, batch_first=True)\n",
      "    >>> src = torch.rand(32, 10, 512)\n",
      "    >>> out = encoder_layer(src)\n",
      "\n",
      "Fast path:\n",
      "    forward() will use a special optimized implementation described in\n",
      "    `FlashAttention: Fast and Memory-Efficient Exact Attention with IO-Awareness`_ if all of the following\n",
      "    conditions are met:\n",
      "\n",
      "    - Either autograd is disabled (using ``torch.inference_mode`` or ``torch.no_grad``) or no tensor\n",
      "      argument ``requires_grad``\n",
      "    - training is disabled (using ``.eval()``)\n",
      "    - batch_first is ``True`` and the input is batched (i.e., ``src.dim() == 3``)\n",
      "    - activation is one of: ``\"relu\"``, ``\"gelu\"``, ``torch.functional.relu``, or ``torch.functional.gelu``\n",
      "    - at most one of ``src_mask`` and ``src_key_padding_mask`` is passed\n",
      "    - if src is a `NestedTensor <https://pytorch.org/docs/stable/nested.html>`_, neither ``src_mask``\n",
      "      nor ``src_key_padding_mask`` is passed\n",
      "    - the two ``LayerNorm`` instances have a consistent ``eps`` value (this will naturally be the case\n",
      "      unless the caller has manually modified one without modifying the other)\n",
      "\n",
      "    If the optimized implementation is in use, a\n",
      "    `NestedTensor <https://pytorch.org/docs/stable/nested.html>`_ can be\n",
      "    passed for ``src`` to represent padding more efficiently than using a padding\n",
      "    mask. In this case, a `NestedTensor <https://pytorch.org/docs/stable/nested.html>`_ will be\n",
      "    returned, and an additional speedup proportional to the fraction of the input that\n",
      "    is padding can be expected.\n",
      "\n",
      "    .. _`FlashAttention: Fast and Memory-Efficient Exact Attention with IO-Awareness`:\n",
      "     https://arxiv.org/abs/2205.14135\n",
      "\u001b[0;31mInit docstring:\u001b[0m Initializes internal Module state, shared by both nn.Module and ScriptModule.\n",
      "\u001b[0;31mFile:\u001b[0m           ~/miniconda3/envs/cdt/lib/python3.8/site-packages/torch/nn/modules/transformer.py\n",
      "\u001b[0;31mType:\u001b[0m           type\n",
      "\u001b[0;31mSubclasses:\u001b[0m     "
     ]
    }
   ],
   "source": []
  },
  {
   "cell_type": "code",
   "execution_count": 59,
   "metadata": {},
   "outputs": [],
   "source": [
    "class ConvAttnModel(nn.Module):\n",
    "    def __init__(self, h_dim_attn, n_heads, h_dim_fc, n_layers, vgg16_freezing=True):\n",
    "        super().__init__()\n",
    "        self.h_dim_attn = h_dim_attn\n",
    "        self.build_network(n_heads, h_dim_fc, n_layers, vgg16_freezing)\n",
    "        \n",
    "    def build_network(self, n_heads, h_dim_fc, n_layers, vgg16_freezing):\n",
    "        # VGG16 모델 불러오기 (사전 훈련된)\n",
    "        self.vgg16_model = models.vgg16(pretrained=True).features\n",
    "        if vgg16_freezing:\n",
    "            self.vgg16_model.eval()\n",
    "        vgg_out_channels = self.vgg16_model[-3].out_channels\n",
    "        self.conv_1x1 = nn.Conv2d(vgg_out_channels, h_dim_attn, 1)\n",
    "\n",
    "        enc_layer = nn.TransformerEncoderLayer(self.h_dim_attn, n_heads, h_dim_fc, batch_first=True)    \n",
    "        self.attn = nn.TransformerEncoder(enc_layer, n_layers)    \n",
    "\n",
    "        self.network = nn.Sequential(\n",
    "            nn.Linear(self.h_dim_attn, 2)\n",
    "        )\n",
    "    \n",
    "    def forward(self, x):\n",
    "        x_tilde = self.vgg16_model(x) # (B, C, H, W)\n",
    "        x_tilde = self.conv_1x1(x_tilde) # (B, D, H, W)\n",
    "\n",
    "        _x_tilde = x_tilde.flatten(2).permute(0,2,1) #(B, HW, D)\n",
    "        cls_rand_token = torch.randn(_x_tilde.shape[0], 1, self.h_dim_attn) #(B, 1, D)\n",
    "        x_tilde_cls = torch.cat([_x_tilde, cls_rand_token], 1) # (B, HW+1, D)\n",
    "        x_attn = self.attn(x_tilde_cls) # (B, HW+1, D)\n",
    "\n",
    "        x = x_attn[:,-1] #(B, D)\n",
    "        y = self.network(x)\n",
    "        return y\n"
   ]
  },
  {
   "cell_type": "code",
   "execution_count": 60,
   "metadata": {},
   "outputs": [],
   "source": [
    "x = torch.rand([16,3,256,256])"
   ]
  },
  {
   "cell_type": "code",
   "execution_count": 61,
   "metadata": {},
   "outputs": [],
   "source": [
    "h_dim_attn = 128\n",
    "n_heads = 1\n",
    "h_dim_fc = 512\n",
    "n_layers = 1"
   ]
  },
  {
   "cell_type": "code",
   "execution_count": 62,
   "metadata": {},
   "outputs": [
    {
     "name": "stderr",
     "output_type": "stream",
     "text": [
      "/root/miniconda3/envs/cdt/lib/python3.8/site-packages/torchvision/models/_utils.py:208: UserWarning: The parameter 'pretrained' is deprecated since 0.13 and may be removed in the future, please use 'weights' instead.\n",
      "  warnings.warn(\n",
      "/root/miniconda3/envs/cdt/lib/python3.8/site-packages/torchvision/models/_utils.py:223: UserWarning: Arguments other than a weight enum or `None` for 'weights' are deprecated since 0.13 and may be removed in the future. The current behavior is equivalent to passing `weights=VGG16_Weights.IMAGENET1K_V1`. You can also use `weights=VGG16_Weights.DEFAULT` to get the most up-to-date weights.\n",
      "  warnings.warn(msg)\n",
      "/root/miniconda3/envs/cdt/lib/python3.8/site-packages/torch/nn/modules/transformer.py:282: UserWarning: enable_nested_tensor is True, but self.use_nested_tensor is False because encoder_layer.self_attn.num_heads is odd\n",
      "  warnings.warn(f\"enable_nested_tensor is True, but self.use_nested_tensor is False because {why_not_sparsity_fast_path}\")\n"
     ]
    }
   ],
   "source": [
    "model = ConvAttnModel(h_dim_attn, n_heads, h_dim_fc, n_layers)"
   ]
  },
  {
   "cell_type": "code",
   "execution_count": 63,
   "metadata": {},
   "outputs": [
    {
     "data": {
      "text/plain": [
       "torch.Size([16, 2])"
      ]
     },
     "execution_count": 63,
     "metadata": {},
     "output_type": "execute_result"
    }
   ],
   "source": [
    "model(x).shape"
   ]
  },
  {
   "cell_type": "code",
   "execution_count": 17,
   "metadata": {},
   "outputs": [],
   "source": [
    "backbone = vgg16.features"
   ]
  },
  {
   "cell_type": "code",
   "execution_count": 18,
   "metadata": {},
   "outputs": [
    {
     "data": {
      "text/plain": [
       "torch.Size([16, 512, 8, 8])"
      ]
     },
     "execution_count": 18,
     "metadata": {},
     "output_type": "execute_result"
    }
   ],
   "source": [
    "x_tilde = backbone(x)\n",
    "x_tilde.shape"
   ]
  },
  {
   "cell_type": "code",
   "execution_count": 19,
   "metadata": {},
   "outputs": [],
   "source": [
    "h_dim_attn = 128"
   ]
  },
  {
   "cell_type": "code",
   "execution_count": 21,
   "metadata": {},
   "outputs": [
    {
     "data": {
      "text/plain": [
       "torch.Size([16, 128])"
      ]
     },
     "execution_count": 21,
     "metadata": {},
     "output_type": "execute_result"
    }
   ],
   "source": [
    "cls_rand_token = torch.randn(16,h_dim_attn)\n",
    "cls_rand_token.shape"
   ]
  },
  {
   "cell_type": "code",
   "execution_count": 25,
   "metadata": {},
   "outputs": [
    {
     "data": {
      "text/plain": [
       "Conv2d(512, 128, kernel_size=(1, 1), stride=(1, 1))"
      ]
     },
     "execution_count": 25,
     "metadata": {},
     "output_type": "execute_result"
    }
   ],
   "source": [
    "conv_1x1 = nn.Conv2d(512, h_dim_attn, 1)\n",
    "conv_1x1"
   ]
  },
  {
   "cell_type": "code",
   "execution_count": 27,
   "metadata": {},
   "outputs": [
    {
     "data": {
      "text/plain": [
       "torch.Size([16, 128, 8, 8])"
      ]
     },
     "execution_count": 27,
     "metadata": {},
     "output_type": "execute_result"
    }
   ],
   "source": [
    "x = conv_1x1(x_tilde)\n",
    "x.shape"
   ]
  },
  {
   "cell_type": "code",
   "execution_count": 28,
   "metadata": {},
   "outputs": [
    {
     "data": {
      "text/plain": [
       "torch.Size([16, 128, 64])"
      ]
     },
     "execution_count": 28,
     "metadata": {},
     "output_type": "execute_result"
    }
   ],
   "source": [
    "x = x.flatten(2)\n",
    "x.shape"
   ]
  },
  {
   "cell_type": "code",
   "execution_count": 32,
   "metadata": {},
   "outputs": [
    {
     "data": {
      "text/plain": [
       "torch.Size([16, 128, 65])"
      ]
     },
     "execution_count": 32,
     "metadata": {},
     "output_type": "execute_result"
    }
   ],
   "source": [
    "x = torch.cat([x, cls_rand_token[...,None]], -1)\n",
    "x.shape"
   ]
  }
 ],
 "metadata": {
  "kernelspec": {
   "display_name": "cdt",
   "language": "python",
   "name": "python3"
  },
  "language_info": {
   "codemirror_mode": {
    "name": "ipython",
    "version": 3
   },
   "file_extension": ".py",
   "mimetype": "text/x-python",
   "name": "python",
   "nbconvert_exporter": "python",
   "pygments_lexer": "ipython3",
   "version": "3.8.18"
  }
 },
 "nbformat": 4,
 "nbformat_minor": 2
}
